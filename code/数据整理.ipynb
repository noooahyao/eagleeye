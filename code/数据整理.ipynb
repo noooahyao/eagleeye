{
 "cells": [
  {
   "cell_type": "code",
   "execution_count": 1,
   "metadata": {},
   "outputs": [],
   "source": [
    "import numpy as np\n",
    "import pandas as pd\n",
    "import os\n",
    "import re\n",
    "read_data=pd.read_excel('表格属性.xlsx')\n"
   ]
  },
  {
   "cell_type": "code",
   "execution_count": 2,
   "metadata": {},
   "outputs": [],
   "source": [
    "def find_chinese(file):\n",
    "    pattern = re.compile(r'[^\\u4e00-\\u9fa5]')\n",
    "    chinese = re.sub(pattern, '', file)\n",
    "    return chinese\n",
    "firm=[]\n",
    "os.chdir(\"./数据\")\n",
    "path=os.getcwd()\n",
    "for i in os.listdir(path):\n",
    "    if '.' not in i:\n",
    "        firm.append(i)"
   ]
  },
  {
   "cell_type": "code",
   "execution_count": 13,
   "metadata": {
    "scrolled": true
   },
   "outputs": [],
   "source": [
    "import shutil\n",
    "name=firm[0]\n",
    "os.chdir(os.path.join(path,name))\n",
    "content={}\n",
    "for root, dirs, files in os.walk(os.getcwd()):\n",
    "    for file in files:\n",
    "        if 'xls' in file:\n",
    "            file_path=os.path.join(root,file)\n",
    "            if \"Z值预警\" not in file:\n",
    "                file=find_chinese(file).replace(name,'')\n",
    "            else:\n",
    "                file = file.split('.')[0]\n",
    "            content[file]=file_path\n",
    "for i in read_data['表格']:\n",
    "    if i not in content.keys():\n",
    "        print(i)\n",
    "writer = pd.ExcelWriter(os.path.join(path,name,'%s.xlsx'%name))\n",
    "df=pd.DataFrame()\n",
    "for i in range(len(read_data)):\n",
    "    table = read_data.loc[i]['表格']\n",
    "    feature = str(read_data.loc[i]['属性']).split(',')\n",
    "    if i >0 and table==\"公司介绍\":\n",
    "        continue\n",
    "    try:\n",
    "        need = pd.read_excel(content[table])\n",
    "    except:\n",
    "        fpath,fname=os.path.split(content[table])\n",
    "        shutil.copyfile(content[table],os.path.join(path,name,fname))\n",
    "    if table==\"公司介绍\":\n",
    "        need.to_excel(writer,sheet_name=\"公司介绍\",index=None)\n",
    "        continue\n",
    "    else:\n",
    "        if feature!=['nan']:\n",
    "            if need.index[0]==0:\n",
    "                need=pd.read_excel(content[table],index_col=need.columns[0])\n",
    "            need.index=[str(j).replace('\\u3000','') for j in need.index]\n",
    "            need=need.loc[feature].T\n",
    "        else:\n",
    "            continue            \n",
    "    if df.empty:\n",
    "        df=need\n",
    "    else:\n",
    "        df=pd.merge(df,need,how=\"outer\",left_index=True,right_index=True)\n",
    "        #print(need)\n",
    "df=df.fillna(0)\n",
    "df.to_excel(writer,sheet_name=\"data\")\n",
    "\n",
    "writer.close()\n"
   ]
  },
  {
   "cell_type": "code",
   "execution_count": null,
   "metadata": {},
   "outputs": [],
   "source": []
  },
  {
   "cell_type": "code",
   "execution_count": null,
   "metadata": {},
   "outputs": [],
   "source": []
  }
 ],
 "metadata": {
  "kernelspec": {
   "display_name": "Python 3",
   "language": "python",
   "name": "python3"
  },
  "language_info": {
   "codemirror_mode": {
    "name": "ipython",
    "version": 3
   },
   "file_extension": ".py",
   "mimetype": "text/x-python",
   "name": "python",
   "nbconvert_exporter": "python",
   "pygments_lexer": "ipython3",
   "version": "3.6.7"
  }
 },
 "nbformat": 4,
 "nbformat_minor": 2
}
