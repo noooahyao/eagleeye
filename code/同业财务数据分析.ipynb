{
 "cells": [
  {
   "cell_type": "code",
   "execution_count": 1,
   "metadata": {},
   "outputs": [],
   "source": [
    "import numpy as np\n",
    "import pandas as pd\n",
    "import os\n",
    "import re\n",
    "import math\n",
    "import jenspy as jk"
   ]
  },
  {
   "cell_type": "code",
   "execution_count": 95,
   "metadata": {},
   "outputs": [],
   "source": [
    "#熵值法小程序\n",
    "def deal_data(df_select):\n",
    "    for i in range(len(df_select.columns)):\n",
    "        #print(i)\n",
    "        k=pd.to_numeric(df_select.iloc[:,i])\n",
    "        #k=np.log(k)\n",
    "        if min(k)<=0:\n",
    "            df_select.iloc[:,i]=pd.to_numeric(df_select.iloc[:,i])-min(k)+1\n",
    "        else:\n",
    "            df_select.iloc[:,i]=k\n",
    "    return df_select\n",
    "def proportionMax(x):\n",
    "    P = x/np.max(x)\n",
    "    p = P/sum(P)\n",
    "    return p\n",
    "def proportionMin(x):\n",
    "    P = np.min(x)/x \n",
    "    p = P/sum(P)\n",
    "    return p\n",
    "def EntropyMax(x):\n",
    "    p=proportionMax(x)    \n",
    "    k = 1/(math.log(len(x)))  #单值\n",
    "    data_log = np.log(p)\n",
    "    data_log=list(data_log)\n",
    "    p=np.matrix(p)\n",
    "    data_log=np.matrix(data_log)\n",
    "    entropy = p*data_log.T\n",
    "    entropy=entropy.tolist()\n",
    "    entropy=entropy[0][0]\n",
    "    e = -k*entropy\n",
    "    return e\n",
    "def EntropyMin(x):\n",
    "    p=proportionMin(x) \n",
    "    k = 1/(math.log(len(x)))  #单值\n",
    "    data_log = np.log(p)\n",
    "    data_log=list(data_log)\n",
    "    p=np.matrix(p)\n",
    "    data_log=np.matrix(data_log)\n",
    "    entropy = p*data_log.T\n",
    "    entropy=entropy.tolist()\n",
    "    entropy=entropy[0][0]\n",
    "    e = -k*entropy\n",
    "    return e\n",
    "def change(x):\n",
    "    inter=(x-min(x))/(max(x)-min(x))\n",
    "    p=inter*100\n",
    "    return p\n",
    "#直接对columns使用（apply到Dataframe上）\n",
    "#这里对求出来的entropy使用\n",
    "def valuate(proportion,Entropy,deal='normal'):\n",
    "    g = 1-Entropy\n",
    "    a = g/sum(g)\n",
    "    if deal=='log':\n",
    "        v = [np.log(sum(np.array(proportion.loc[i])*a)) for i in range(len(proportion))]\n",
    "    elif deal=='normal':\n",
    "        v = [sum(np.array(proportion.loc[i])*a) for i in range(len(proportion))]\n",
    "    return v\n",
    "\n",
    "def entropy(df_select,num=2,Min=[],minmax='max',deal='normal',number=False):\n",
    "#   df_select=df_select.fillna(int(0))\n",
    "    df_select=deal_data(df_select)\n",
    "    df_select.index=range(len(df_select))\n",
    "    v_all = []\n",
    "    ee_all = []\n",
    "    pp_all = []\n",
    "    k = []\n",
    "    for i in range(0,len(df_select.columns),num):\n",
    "        df=pd.DataFrame(df_select.ix[:,i:i+num])\n",
    "        if minmax=='max':\n",
    "            ee=df.apply(EntropyMax)\n",
    "            pp=df.apply(proportionMax)\n",
    "##            print(ee)\n",
    "        elif minmax=='min':\n",
    "            ee=df.apply(EntropyMin)\n",
    "            pp=df.apply(proportionMin)\n",
    "##            print(ee)\n",
    "        else:\n",
    "            small=[]\n",
    "            for a in df.columns:\n",
    "                for kk in Min:\n",
    "                    if a.find(kk)!=-1:\n",
    "                        small.append(a)\n",
    "                        break\n",
    "            ee=df.apply(EntropyMax)\n",
    "            pp=df.apply(proportionMax)\n",
    "            for name in small:\n",
    "                ee[name]=EntropyMin(df[name])\n",
    "                pp[name]=proportionMin(df[name])\n",
    "        v = valuate(pp,ee,deal=deal)      \n",
    "        ee_all.append(ee)\n",
    "        pp_all.append(pp)\n",
    "        v_all.append((np.array(v)).tolist())\n",
    "        k.append(df_select.columns[i])\n",
    "    KK=pd.DataFrame(v_all).T\n",
    "    if number:\n",
    "        KK=KK.apply(change)\n",
    "        KK=pd.DataFrame(KK)\n",
    "    KK.columns=[str(i)+'得分' for i in k]\n",
    "    return KK,ee_all,pp_all"
   ]
  },
  {
   "cell_type": "code",
   "execution_count": 3,
   "metadata": {},
   "outputs": [],
   "source": [
    "firm=[]\n",
    "os.chdir(\"./数据\")\n",
    "path=os.getcwd()\n",
    "for i in os.listdir(path):\n",
    "    if '.' not in i:\n",
    "        firm.append(i)"
   ]
  },
  {
   "cell_type": "code",
   "execution_count": 106,
   "metadata": {},
   "outputs": [],
   "source": [
    "import shutil\n",
    "name=firm[0]\n",
    "os.chdir(os.path.join(path,name))\n",
    "df1=pd.read_excel('财务数据比较.xlsx',index_col='代码')\n",
    "df2=pd.read_excel('财务比率比较.xlsx',index_col='代码')"
   ]
  },
  {
   "cell_type": "code",
   "execution_count": 107,
   "metadata": {},
   "outputs": [],
   "source": [
    "df=df1.join(df2)\n",
    "df=df.dropna()\n",
    "columns=df.columns\n",
    "col=[[],[],[],[]]\n",
    "for i in columns:\n",
    "    if i=='证券简称':\n",
    "        continue\n",
    "    elif int(i[:4])==2016:\n",
    "        col[0].append(i)\n",
    "    elif int(i[:4])==2017:\n",
    "        col[1].append(i)\n",
    "    elif int(i[:4])==2018:\n",
    "        col[2].append(i)\n",
    "    elif int(i[:4])==2019:\n",
    "        col[3].append(i)\n",
    "df=df.replace('--',0)"
   ]
  },
  {
   "cell_type": "code",
   "execution_count": 108,
   "metadata": {
    "scrolled": true
   },
   "outputs": [
    {
     "name": "stderr",
     "output_type": "stream",
     "text": [
      "C:\\Users\\yaoyi\\Miniconda3\\lib\\site-packages\\ipykernel_launcher.py:68: DeprecationWarning: \n",
      ".ix is deprecated. Please use\n",
      ".loc for label based indexing or\n",
      ".iloc for positional indexing\n",
      "\n",
      "See the documentation here:\n",
      "http://pandas.pydata.org/pandas-docs/stable/indexing.html#ix-indexer-is-deprecated\n"
     ]
    }
   ],
   "source": [
    "import jenkspy as jk\n",
    "result=[]\n",
    "jenk=[]\n",
    "for i in range(len(col)):\n",
    "    test,ee,pp=entropy(df[col[i]],num=len(col[i]),Min=[],minmax='max',deal='log',number=True)\n",
    "    test.columns=['%s年报得分'%str(2016+i)]\n",
    "    score=test['%s年报得分'%str(2016+i)].tolist()\n",
    "    jenks=jk.jenks_breaks(score,5)\n",
    "    jenk.append(jenks)\n",
    "    cate=[]\n",
    "    for i in score:\n",
    "        for j in range(1,len(jenks)):\n",
    "            if i <=jenks[j]:\n",
    "                cate.append(j)\n",
    "                break\n",
    "    test[test.columns[0]+'类别']=cate\n",
    "    test.index=df.index\n",
    "    df=df.join(test)"
   ]
  },
  {
   "cell_type": "code",
   "execution_count": 109,
   "metadata": {
    "scrolled": true
   },
   "outputs": [],
   "source": [
    "df.to_excel('财务数据得分.xlsx')"
   ]
  },
  {
   "cell_type": "code",
   "execution_count": 110,
   "metadata": {},
   "outputs": [
    {
     "data": {
      "text/html": [
       "<div>\n",
       "<style scoped>\n",
       "    .dataframe tbody tr th:only-of-type {\n",
       "        vertical-align: middle;\n",
       "    }\n",
       "\n",
       "    .dataframe tbody tr th {\n",
       "        vertical-align: top;\n",
       "    }\n",
       "\n",
       "    .dataframe thead th {\n",
       "        text-align: right;\n",
       "    }\n",
       "</style>\n",
       "<table border=\"1\" class=\"dataframe\">\n",
       "  <thead>\n",
       "    <tr style=\"text-align: right;\">\n",
       "      <th></th>\n",
       "      <th>2019年报得分</th>\n",
       "      <th>2019年报得分类别</th>\n",
       "    </tr>\n",
       "  </thead>\n",
       "  <tbody>\n",
       "    <tr>\n",
       "      <th>count</th>\n",
       "      <td>305.000000</td>\n",
       "      <td>305.000000</td>\n",
       "    </tr>\n",
       "    <tr>\n",
       "      <th>mean</th>\n",
       "      <td>40.189266</td>\n",
       "      <td>2.606557</td>\n",
       "    </tr>\n",
       "    <tr>\n",
       "      <th>std</th>\n",
       "      <td>16.547846</td>\n",
       "      <td>1.179299</td>\n",
       "    </tr>\n",
       "    <tr>\n",
       "      <th>min</th>\n",
       "      <td>0.000000</td>\n",
       "      <td>1.000000</td>\n",
       "    </tr>\n",
       "    <tr>\n",
       "      <th>25%</th>\n",
       "      <td>28.038427</td>\n",
       "      <td>2.000000</td>\n",
       "    </tr>\n",
       "    <tr>\n",
       "      <th>50%</th>\n",
       "      <td>38.133534</td>\n",
       "      <td>3.000000</td>\n",
       "    </tr>\n",
       "    <tr>\n",
       "      <th>75%</th>\n",
       "      <td>50.115658</td>\n",
       "      <td>3.000000</td>\n",
       "    </tr>\n",
       "    <tr>\n",
       "      <th>max</th>\n",
       "      <td>100.000000</td>\n",
       "      <td>5.000000</td>\n",
       "    </tr>\n",
       "  </tbody>\n",
       "</table>\n",
       "</div>"
      ],
      "text/plain": [
       "         2019年报得分  2019年报得分类别\n",
       "count  305.000000  305.000000\n",
       "mean    40.189266    2.606557\n",
       "std     16.547846    1.179299\n",
       "min      0.000000    1.000000\n",
       "25%     28.038427    2.000000\n",
       "50%     38.133534    3.000000\n",
       "75%     50.115658    3.000000\n",
       "max    100.000000    5.000000"
      ]
     },
     "execution_count": 110,
     "metadata": {},
     "output_type": "execute_result"
    }
   ],
   "source": [
    "test.describe()"
   ]
  },
  {
   "cell_type": "code",
   "execution_count": 99,
   "metadata": {},
   "outputs": [
    {
     "data": {
      "text/plain": [
       "[[0.0, 17.293178456973056, 33.153702899520816, 53.86767968362185, 100.0],\n",
       " [0.0, 18.096166647905594, 34.54934771425393, 55.6897334279564, 100.0],\n",
       " [0.0, 33.21927426762112, 46.18459600349529, 62.85874206682664, 100.0],\n",
       " [0.0, 30.83271631333443, 47.31769640272898, 65.75714331950002, 100.0]]"
      ]
     },
     "execution_count": 99,
     "metadata": {},
     "output_type": "execute_result"
    }
   ],
   "source": [
    "jenk"
   ]
  },
  {
   "cell_type": "code",
   "execution_count": null,
   "metadata": {},
   "outputs": [],
   "source": []
  }
 ],
 "metadata": {
  "kernelspec": {
   "display_name": "Python 3",
   "language": "python",
   "name": "python3"
  },
  "language_info": {
   "codemirror_mode": {
    "name": "ipython",
    "version": 3
   },
   "file_extension": ".py",
   "mimetype": "text/x-python",
   "name": "python",
   "nbconvert_exporter": "python",
   "pygments_lexer": "ipython3",
   "version": "3.6.7"
  }
 },
 "nbformat": 4,
 "nbformat_minor": 2
}
